{
 "cells": [
  {
   "cell_type": "code",
   "execution_count": 5,
   "id": "a06d53dd",
   "metadata": {},
   "outputs": [
    {
     "name": "stdout",
     "output_type": "stream",
     "text": [
      "0       MELD_H2_15T_FCD_0001\n",
      "1       MELD_H2_15T_FCD_0002\n",
      "2       MELD_H2_15T_FCD_0003\n",
      "3       MELD_H2_15T_FCD_0005\n",
      "4       MELD_H2_15T_FCD_0006\n",
      "                ...         \n",
      "1125     MELD_H16_3T_FCD_009\n",
      "1126     MELD_H16_3T_FCD_010\n",
      "1127     MELD_H16_3T_FCD_011\n",
      "1128     MELD_H16_3T_FCD_012\n",
      "1129     MELD_H16_3T_FCD_013\n",
      "Name: subject_id, Length: 1130, dtype: object\n"
     ]
    }
   ],
   "source": [
    "import pandas as pd\n",
    "import csv\n",
    "import os\n",
    "\n",
    "with open(\n",
    "    \"/home/s17gmikh/FCD-Detection/meld_graph/data/preprocessed/MELD_BONN_dataset_full.csv\",\n",
    "    \"r\",\n",
    ") as f:\n",
    "    data = pd.read_csv(\n",
    "        f,\n",
    "        sep=\",\",\n",
    "        engine=\"python\",  # нужен движок Python, чтобы поддерживался escapechar\n",
    "        quoting=csv.QUOTE_NONE,  # не искать кавычки\n",
    "        escapechar=\"\\\\\",  # '\\' перед ',' будет означать «не разделитель»\n",
    "    )\n",
    "\n",
    "# 2) вытаскиваем sub-ID\n",
    "\n",
    "data[\"subject_id\"] = data[\"DATA_PATH\"].apply(\n",
    "    lambda p: (\n",
    "        os.path.basename(p).split(\"_patient\")[0].split(\"_control\")[0]\n",
    "        if isinstance(p, str)\n",
    "        else None\n",
    "    )\n",
    ")\n",
    "print(data[\"subject_id\"])"
   ]
  },
  {
   "cell_type": "code",
   "execution_count": null,
   "id": "cebff5b4",
   "metadata": {},
   "outputs": [],
   "source": []
  }
 ],
 "metadata": {
  "kernelspec": {
   "display_name": "MELD-env",
   "language": "python",
   "name": "python3"
  },
  "language_info": {
   "codemirror_mode": {
    "name": "ipython",
    "version": 3
   },
   "file_extension": ".py",
   "mimetype": "text/x-python",
   "name": "python",
   "nbconvert_exporter": "python",
   "pygments_lexer": "ipython3",
   "version": "3.9.15"
  }
 },
 "nbformat": 4,
 "nbformat_minor": 5
}
