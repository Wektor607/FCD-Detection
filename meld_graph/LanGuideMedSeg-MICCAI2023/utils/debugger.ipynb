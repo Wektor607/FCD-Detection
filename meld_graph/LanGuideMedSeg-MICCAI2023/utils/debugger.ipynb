{
 "cells": [
  {
   "cell_type": "code",
   "execution_count": 5,
   "id": "a06d53dd",
   "metadata": {},
   "outputs": [
    {
     "name": "stdout",
     "output_type": "stream",
     "text": [
      "0       MELD_H2_15T_FCD_0001\n",
      "1       MELD_H2_15T_FCD_0002\n",
      "2       MELD_H2_15T_FCD_0003\n",
      "3       MELD_H2_15T_FCD_0005\n",
      "4       MELD_H2_15T_FCD_0006\n",
      "                ...         \n",
      "1125     MELD_H16_3T_FCD_009\n",
      "1126     MELD_H16_3T_FCD_010\n",
      "1127     MELD_H16_3T_FCD_011\n",
      "1128     MELD_H16_3T_FCD_012\n",
      "1129     MELD_H16_3T_FCD_013\n",
      "Name: subject_id, Length: 1130, dtype: object\n"
     ]
    }
   ],
   "source": [
    "import pandas as pd\n",
    "import csv\n",
    "import os\n",
    "\n",
    "with open(\n",
    "    \"/home/s17gmikh/FCD-Detection/meld_graph/data/preprocessed/MELD_BONN_dataset_full.csv\",\n",
    "    \"r\",\n",
    ") as f:\n",
    "    data = pd.read_csv(\n",
    "        f,\n",
    "        sep=\",\",\n",
    "        engine=\"python\",  # нужен движок Python, чтобы поддерживался escapechar\n",
    "        quoting=csv.QUOTE_NONE,  # не искать кавычки\n",
    "        escapechar=\"\\\\\",  # '\\' перед ',' будет означать «не разделитель»\n",
    "    )\n",
    "\n",
    "# 2) вытаскиваем sub-ID\n",
    "\n",
    "data[\"subject_id\"] = data[\"DATA_PATH\"].apply(\n",
    "    lambda p: (\n",
    "        os.path.basename(p).split(\"_patient\")[0].split(\"_control\")[0]\n",
    "        if isinstance(p, str)\n",
    "        else None\n",
    "    )\n",
    ")\n",
    "print(data[\"subject_id\"])"
   ]
  },
  {
   "cell_type": "code",
   "execution_count": 1,
   "id": "cebff5b4",
   "metadata": {},
   "outputs": [
    {
     "name": "stdout",
     "output_type": "stream",
     "text": [
      "loss_ce : tensor([0.4421, 0.3035])\n",
      "loss_nll: tensor([0.4421, 0.3035])\n",
      "max |diff| = 0.0\n"
     ]
    }
   ],
   "source": [
    "import torch\n",
    "import torch.nn as nn\n",
    "\n",
    "# \"сырые\" логиты модели\n",
    "logits = torch.tensor(\n",
    "    [[1.2, -0.3, 0.1], [-0.5, 0.7, 2.0]], dtype=torch.float32\n",
    ")  # [B, C]\n",
    "targets = torch.tensor([0, 2])  # правильные классы\n",
    "\n",
    "# Вариант 1: CrossEntropy на логитах\n",
    "ce = nn.CrossEntropyLoss(reduction=\"none\")\n",
    "loss_ce = ce(logits, targets)\n",
    "\n",
    "# Вариант 2: LogSoftmax + NLLLoss\n",
    "log_probs = torch.log_softmax(logits, dim=1)  # сами считаем LogSoftmax\n",
    "nll = nn.NLLLoss(reduction=\"none\")\n",
    "loss_nll = nll(log_probs, targets)\n",
    "\n",
    "print(\"loss_ce :\", loss_ce)  # одинаково поэлементно\n",
    "print(\"loss_nll:\", loss_nll)\n",
    "print(\"max |diff| =\", (loss_ce - loss_nll).abs().max().item())"
   ]
  },
  {
   "cell_type": "code",
   "execution_count": 2,
   "id": "3525e851",
   "metadata": {},
   "outputs": [
    {
     "name": "stdout",
     "output_type": "stream",
     "text": [
      "✅ Удалено 617 дубликатов, осталось 1129 уникальных subject_id.\n"
     ]
    }
   ],
   "source": [
    "import pandas as pd\n",
    "\n",
    "# путь к твоему csv\n",
    "csv_path = \"/home/s17gmikh/FCD-Detection/meld_graph/data/preprocessed/all_augmented_reports.csv\"\n",
    "\n",
    "# читаем csv\n",
    "df = pd.read_csv(csv_path)\n",
    "\n",
    "# было строк\n",
    "n_before = len(df)\n",
    "\n",
    "# удаляем дубликаты по колонке subject_id (оставляем первую встречу)\n",
    "df = df.drop_duplicates(subset=[\"subject_id\"], keep=\"first\")\n",
    "\n",
    "# стало строк\n",
    "n_after = len(df)\n",
    "\n",
    "# сохраняем обратно\n",
    "df.to_csv(csv_path, index=False)\n",
    "\n",
    "print(\n",
    "    f\"✅ Удалено {n_before - n_after} дубликатов, осталось {n_after} уникальных subject_id.\"\n",
    ")"
   ]
  },
  {
   "cell_type": "code",
   "execution_count": null,
   "id": "459f05ba",
   "metadata": {},
   "outputs": [],
   "source": []
  }
 ],
 "metadata": {
  "kernelspec": {
   "display_name": "MELD-env",
   "language": "python",
   "name": "python3"
  },
  "language_info": {
   "codemirror_mode": {
    "name": "ipython",
    "version": 3
   },
   "file_extension": ".py",
   "mimetype": "text/x-python",
   "name": "python",
   "nbconvert_exporter": "python",
   "pygments_lexer": "ipython3",
   "version": "3.9.15"
  }
 },
 "nbformat": 4,
 "nbformat_minor": 5
}
